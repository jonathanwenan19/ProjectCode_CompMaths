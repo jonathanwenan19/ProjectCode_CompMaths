{
 "cells": [
  {
   "cell_type": "code",
   "execution_count": 1,
   "metadata": {},
   "outputs": [],
   "source": [
    "import numpy as np\n",
    "import matplotlib.pyplot as plt"
   ]
  },
  {
   "cell_type": "code",
   "execution_count": 2,
   "metadata": {},
   "outputs": [],
   "source": [
    "# gauss-jordan method\n",
    "def gauss_jordan(a, b):\n",
    "    n = len(b)\n",
    "    \n",
    "    # elimination phase\n",
    "    #loops the row of the matrix\n",
    "    for k in range(0, n - 1):\n",
    "        #loops the values in the ith row (column values)\n",
    "        for i in range(k+1, n):\n",
    "            # Making the upper triangle, by altering some of the values in a for loop. the lower part will become 0.\n",
    "            if a[i,k] != 0.0:\n",
    "                lam  = a[i,k]/a[k,k]\n",
    "                a[i,k+1:n] -= lam*a[k,k+1:n]\n",
    "                b[i] = b[i] - lam*b[k]\n",
    "    # back substitution\n",
    "    for k in range(n-1, -1, -1):\n",
    "        b[k] = (b[k] - np.dot(a[k,k+1:n], b[k+1:n]))/a[k,k]\n",
    "    return b\n",
    "\n",
    "def LUdecomp(a):\n",
    "    n = len(a)\n",
    "    for k in range(0,n-1):\n",
    "        for i in range(k+1,n):\n",
    "            if a[i,k] != 0.0:\n",
    "                lam = a [i,k]/a[k,k]\n",
    "                a[i,k+1:n] = a[i,k+1:n] - lam*a[k,k+1:n]\n",
    "                a[i,k] = lam\n",
    "    return a\n",
    "\n",
    "     \n",
    "def LUsolve(a,b):\n",
    "    n = len(a)\n",
    "    for k in range(1,n):\n",
    "        b[k] = b[k] - np.dot(a[k,0:k],b[0:k])\n",
    "        b[n-1] = b[n-1]/a[n-1,n-1]\n",
    "    for k in range(n-2,-1,-1):\n",
    "        b[k] = (b[k] - np.dot(a[k,k+1:n],b[k+1:n]))/a[k,k]\n",
    "    return b"
   ]
  },
  {
   "cell_type": "code",
   "execution_count": 3,
   "metadata": {},
   "outputs": [
    {
     "name": "stdout",
     "output_type": "stream",
     "text": [
      "[[3.]\n",
      " [2.]]\n"
     ]
    }
   ],
   "source": [
    "a = np.array([[3,-1],[2,1]], dtype = float)\n",
    "b = np.array([[7],[8]], dtype = float)\n",
    "x = gauss_jordan(a, b)\n",
    "print(x)"
   ]
  },
  {
   "cell_type": "markdown",
   "metadata": {},
   "source": [
    "The Process of Gauss-Elimination\n",
    "$\n",
    "The matrix \n",
    "$"
   ]
  },
  {
   "cell_type": "code",
   "execution_count": 4,
   "metadata": {},
   "outputs": [
    {
     "name": "stdout",
     "output_type": "stream",
     "text": [
      "Input how many dimensions2\n",
      "How many values in a row2\n",
      "Input value3\n",
      "Input value-1\n",
      "Input value2\n",
      "Input value1\n",
      "Input value7\n",
      "Input value8\n"
     ]
    }
   ],
   "source": [
    "dim = int(input(\"Input how many dimensions\"))\n",
    "lhs = []\n",
    "rhs = []\n",
    "for i in range(dim):\n",
    "    lhs.append([])\n",
    "nums = int(input('How many values in a row'))\n",
    "for k in range(dim):\n",
    "    for j in range(nums):\n",
    "        val = int(input('Input value'))\n",
    "        lhs[k].append(val)\n",
    "for l in range(dim):\n",
    "    val = int(input('Input value'))\n",
    "    rhs.append(val)\n",
    "lhs_input = np.array(lhs,dtype= float)\n",
    "rhs_input = np.array(rhs,dtype = float)\n",
    " "
   ]
  },
  {
   "cell_type": "markdown",
   "metadata": {},
   "source": [
    "###### "
   ]
  },
  {
   "cell_type": "code",
   "execution_count": 5,
   "metadata": {},
   "outputs": [
    {
     "data": {
      "text/plain": [
       "array([[ 3., -1.],\n",
       "       [ 2.,  1.]])"
      ]
     },
     "execution_count": 5,
     "metadata": {},
     "output_type": "execute_result"
    }
   ],
   "source": [
    "lhs_input"
   ]
  },
  {
   "cell_type": "code",
   "execution_count": 6,
   "metadata": {},
   "outputs": [
    {
     "data": {
      "text/plain": [
       "array([7., 8.])"
      ]
     },
     "execution_count": 6,
     "metadata": {},
     "output_type": "execute_result"
    }
   ],
   "source": [
    "rhs_input"
   ]
  },
  {
   "cell_type": "code",
   "execution_count": 7,
   "metadata": {},
   "outputs": [
    {
     "data": {
      "text/plain": [
       "array([3., 2.])"
      ]
     },
     "execution_count": 7,
     "metadata": {},
     "output_type": "execute_result"
    }
   ],
   "source": [
    "gauss_jordan(lhs_input, rhs_input)"
   ]
  },
  {
   "cell_type": "code",
   "execution_count": 8,
   "metadata": {},
   "outputs": [
    {
     "name": "stdout",
     "output_type": "stream",
     "text": [
      "Input how many dimensions2\n",
      "How many values in a row2\n",
      "Input value3\n",
      "Input value-1\n",
      "Input value2\n",
      "Input value1\n",
      "Input value7\n",
      "Input value8\n"
     ]
    }
   ],
   "source": [
    "dim = int(input(\"Input how many dimensions\"))\n",
    "lhs = []\n",
    "rhs = []\n",
    "for i in range(dim):\n",
    "    lhs.append([])\n",
    "nums = int(input('How many values in a row'))\n",
    "for k in range(dim):\n",
    "    for j in range(nums):\n",
    "        val = int(input('Input value'))\n",
    "        lhs[k].append(val)\n",
    "for l in range(dim):\n",
    "    val = int(input('Input value'))\n",
    "    rhs.append(val)\n",
    "lhs_input = np.array(lhs,dtype= float)\n",
    "rhs_input = np.array(rhs,dtype = float)\n",
    "\n"
   ]
  },
  {
   "cell_type": "code",
   "execution_count": 9,
   "metadata": {},
   "outputs": [
    {
     "data": {
      "text/plain": [
       "array([[ 3.        , -1.        ],\n",
       "       [ 0.66666667,  1.66666667]])"
      ]
     },
     "execution_count": 9,
     "metadata": {},
     "output_type": "execute_result"
    }
   ],
   "source": [
    "LUdecomp(lhs_input)"
   ]
  },
  {
   "cell_type": "code",
   "execution_count": 11,
   "metadata": {},
   "outputs": [
    {
     "data": {
      "text/plain": [
       "array([3., 2.])"
      ]
     },
     "execution_count": 11,
     "metadata": {},
     "output_type": "execute_result"
    }
   ],
   "source": [
    "LUsolve(lhs_input,rhs_input)"
   ]
  },
  {
   "cell_type": "code",
   "execution_count": null,
   "metadata": {},
   "outputs": [],
   "source": []
  }
 ],
 "metadata": {
  "kernelspec": {
   "display_name": "Python 3",
   "language": "python",
   "name": "python3"
  },
  "language_info": {
   "codemirror_mode": {
    "name": "ipython",
    "version": 3
   },
   "file_extension": ".py",
   "mimetype": "text/x-python",
   "name": "python",
   "nbconvert_exporter": "python",
   "pygments_lexer": "ipython3",
   "version": "3.8.3"
  }
 },
 "nbformat": 4,
 "nbformat_minor": 4
}
